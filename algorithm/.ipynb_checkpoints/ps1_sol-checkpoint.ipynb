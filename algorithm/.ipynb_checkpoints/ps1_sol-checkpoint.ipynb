{
 "cells": [
  {
   "cell_type": "code",
   "execution_count": 4,
   "metadata": {},
   "outputs": [],
   "source": [
    "import matplotlib\n",
    "import numpy as np\n",
    "import matplotlib.pyplot as plt\n",
    "%matplotlib inline"
   ]
  },
  {
   "cell_type": "markdown",
   "metadata": {},
   "source": [
    "### Problem 1-1\n",
    "#### （a) Group 1\n",
    "$$f_1 = n^{0.999999}\\log(n) < O(n\\log(n)\\\\\n",
    "f_2 = O(n)\\\\\n",
    "f_3 = e^{\\ln(1.000001)n}\\\\\n",
    "f_4 = O(n^2) $$\n",
    "\n",
    "Therefore,\n",
    "$$ f_2 < f_1 < f_4 < f_3 $$"
   ]
  },
  {
   "cell_type": "code",
   "execution_count": 31,
   "metadata": {
    "scrolled": true
   },
   "outputs": [
    {
     "data": {
      "text/plain": [
       "Text(0,0.5,'f')"
      ]
     },
     "execution_count": 31,
     "metadata": {},
     "output_type": "execute_result"
    },
    {
     "data": {
      "image/png": "[encoded data removed]",
      "text/plain": [
       "<Figure size 432x288 with 1 Axes>"
      ]
     },
     "metadata": {},
     "output_type": "display_data"
    }
   ],
   "source": [
    "n = np.linspace(0,1e10,1001)\n",
    "f1 = n**0.99999*np.log(n)\n",
    "f2 = 10000000*n\n",
    "f3 = 1.000001**n\n",
    "f4 = n**2\n",
    "\n",
    "fig=plt.figure()\n",
    "plt.plot(n,f1)\n",
    "plt.plot(n,f2)\n",
    "plt.plot(n,f3)\n",
    "plt.plot(n,f4)\n",
    "plt.legend(['f1','f2','f3','f4'])\n",
    "plt.title('Curves of f1 - f4')\n",
    "plt.xlabel('n')\n",
    "plt.ylabel('f')"
   ]
  },
  {
   "cell_type": "markdown",
   "metadata": {},
   "source": [
    "#### Group 2\n",
    "\n",
    "$$ f_1 < f_4 < f_3 < f_2 $$\n",
    "\n",
    "Note:\n",
    "$$ f_3 = C(n,2) = \\frac{n\\cdot (n-1)}{2}=O(n^2)$$"
   ]
  },
  {
   "cell_type": "markdown",
   "metadata": {},
   "source": [
    "#### Group 3\n",
    "\n",
    "$$ f_4 = O(n^2) $$\n",
    "\n",
    "Therefore,\n",
    "\n",
    "$$f_4 < f_1 < f_2 < f_3$$\n",
    "\n",
    "I am not sure about the complexity of $$f_1$$."
   ]
  },
  {
   "cell_type": "code",
   "execution_count": null,
   "metadata": {},
   "outputs": [],
   "source": []
  }
 ],
 "metadata": {
  "kernelspec": {
   "display_name": "Python 3",
   "language": "python",
   "name": "python3"
  },
  "language_info": {
   "codemirror_mode": {
    "name": "ipython",
    "version": 3
   },
   "file_extension": ".py",
   "mimetype": "text/x-python",
   "name": "python",
   "nbconvert_exporter": "python",
   "pygments_lexer": "ipython3",
   "version": "3.6.5"
  }
 },
 "nbformat": 4,
 "nbformat_minor": 2
}
